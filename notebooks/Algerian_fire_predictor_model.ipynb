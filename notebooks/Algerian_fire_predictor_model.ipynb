{
 "cells": [
  {
   "cell_type": "code",
   "execution_count": 2,
   "metadata": {},
   "outputs": [],
   "source": [
    "import pandas as pd \n",
    "import numpy as np\n",
    "import matplotlib.pyplot as plt\n",
    "import seaborn as sns\n",
    "%matplotlib inline\n"
   ]
  },
  {
   "cell_type": "code",
   "execution_count": 3,
   "metadata": {},
   "outputs": [],
   "source": [
    "df=pd.read_csv(r\"C:\\Users\\Lenovo\\Desktop\\New Notebook\\Notes\\ML\\data\\Algerian_forest_fires_UPDATE.csv\")\n"
   ]
  },
  {
   "cell_type": "code",
   "execution_count": 4,
   "metadata": {},
   "outputs": [
    {
     "data": {
      "text/html": [
       "<div>\n",
       "<style scoped>\n",
       "    .dataframe tbody tr th:only-of-type {\n",
       "        vertical-align: middle;\n",
       "    }\n",
       "\n",
       "    .dataframe tbody tr th {\n",
       "        vertical-align: top;\n",
       "    }\n",
       "\n",
       "    .dataframe thead th {\n",
       "        text-align: right;\n",
       "    }\n",
       "</style>\n",
       "<table border=\"1\" class=\"dataframe\">\n",
       "  <thead>\n",
       "    <tr style=\"text-align: right;\">\n",
       "      <th></th>\n",
       "      <th>Temperature</th>\n",
       "      <th>RH</th>\n",
       "      <th>Ws</th>\n",
       "      <th>Rain</th>\n",
       "      <th>FFMC</th>\n",
       "      <th>DMC</th>\n",
       "      <th>DC</th>\n",
       "      <th>ISI</th>\n",
       "      <th>BUI</th>\n",
       "      <th>FWI</th>\n",
       "      <th>Classes</th>\n",
       "      <th>Region</th>\n",
       "    </tr>\n",
       "  </thead>\n",
       "  <tbody>\n",
       "    <tr>\n",
       "      <th>0</th>\n",
       "      <td>29</td>\n",
       "      <td>57</td>\n",
       "      <td>18</td>\n",
       "      <td>0.0</td>\n",
       "      <td>65.7</td>\n",
       "      <td>3.4</td>\n",
       "      <td>7.6</td>\n",
       "      <td>1.3</td>\n",
       "      <td>3.4</td>\n",
       "      <td>0.5</td>\n",
       "      <td>0</td>\n",
       "      <td>0</td>\n",
       "    </tr>\n",
       "    <tr>\n",
       "      <th>1</th>\n",
       "      <td>29</td>\n",
       "      <td>61</td>\n",
       "      <td>13</td>\n",
       "      <td>1.3</td>\n",
       "      <td>64.4</td>\n",
       "      <td>4.1</td>\n",
       "      <td>7.6</td>\n",
       "      <td>1.0</td>\n",
       "      <td>3.9</td>\n",
       "      <td>0.4</td>\n",
       "      <td>0</td>\n",
       "      <td>0</td>\n",
       "    </tr>\n",
       "  </tbody>\n",
       "</table>\n",
       "</div>"
      ],
      "text/plain": [
       "   Temperature  RH  Ws  Rain  FFMC  DMC   DC  ISI  BUI  FWI  Classes  Region\n",
       "0           29  57  18   0.0  65.7  3.4  7.6  1.3  3.4  0.5        0       0\n",
       "1           29  61  13   1.3  64.4  4.1  7.6  1.0  3.9  0.4        0       0"
      ]
     },
     "execution_count": 4,
     "metadata": {},
     "output_type": "execute_result"
    }
   ],
   "source": [
    "df.head(2)"
   ]
  },
  {
   "cell_type": "code",
   "execution_count": 5,
   "metadata": {},
   "outputs": [
    {
     "data": {
      "text/html": [
       "<div>\n",
       "<style scoped>\n",
       "    .dataframe tbody tr th:only-of-type {\n",
       "        vertical-align: middle;\n",
       "    }\n",
       "\n",
       "    .dataframe tbody tr th {\n",
       "        vertical-align: top;\n",
       "    }\n",
       "\n",
       "    .dataframe thead th {\n",
       "        text-align: right;\n",
       "    }\n",
       "</style>\n",
       "<table border=\"1\" class=\"dataframe\">\n",
       "  <thead>\n",
       "    <tr style=\"text-align: right;\">\n",
       "      <th></th>\n",
       "      <th>Temperature</th>\n",
       "      <th>RH</th>\n",
       "      <th>Ws</th>\n",
       "      <th>Rain</th>\n",
       "      <th>FFMC</th>\n",
       "      <th>DMC</th>\n",
       "      <th>DC</th>\n",
       "      <th>ISI</th>\n",
       "      <th>BUI</th>\n",
       "      <th>FWI</th>\n",
       "      <th>Classes</th>\n",
       "      <th>Region</th>\n",
       "    </tr>\n",
       "  </thead>\n",
       "  <tbody>\n",
       "    <tr>\n",
       "      <th>238</th>\n",
       "      <td>30</td>\n",
       "      <td>65</td>\n",
       "      <td>14</td>\n",
       "      <td>0.0</td>\n",
       "      <td>85.4</td>\n",
       "      <td>16.0</td>\n",
       "      <td>44.5</td>\n",
       "      <td>4.5</td>\n",
       "      <td>16.9</td>\n",
       "      <td>6.5</td>\n",
       "      <td>1</td>\n",
       "      <td>1</td>\n",
       "    </tr>\n",
       "    <tr>\n",
       "      <th>239</th>\n",
       "      <td>28</td>\n",
       "      <td>87</td>\n",
       "      <td>15</td>\n",
       "      <td>4.4</td>\n",
       "      <td>41.1</td>\n",
       "      <td>6.5</td>\n",
       "      <td>8.0</td>\n",
       "      <td>0.1</td>\n",
       "      <td>6.2</td>\n",
       "      <td>0.0</td>\n",
       "      <td>0</td>\n",
       "      <td>1</td>\n",
       "    </tr>\n",
       "    <tr>\n",
       "      <th>240</th>\n",
       "      <td>27</td>\n",
       "      <td>87</td>\n",
       "      <td>29</td>\n",
       "      <td>0.5</td>\n",
       "      <td>45.9</td>\n",
       "      <td>3.5</td>\n",
       "      <td>7.9</td>\n",
       "      <td>0.4</td>\n",
       "      <td>3.4</td>\n",
       "      <td>0.2</td>\n",
       "      <td>0</td>\n",
       "      <td>1</td>\n",
       "    </tr>\n",
       "    <tr>\n",
       "      <th>241</th>\n",
       "      <td>24</td>\n",
       "      <td>54</td>\n",
       "      <td>18</td>\n",
       "      <td>0.1</td>\n",
       "      <td>79.7</td>\n",
       "      <td>4.3</td>\n",
       "      <td>15.2</td>\n",
       "      <td>1.7</td>\n",
       "      <td>5.1</td>\n",
       "      <td>0.7</td>\n",
       "      <td>0</td>\n",
       "      <td>1</td>\n",
       "    </tr>\n",
       "    <tr>\n",
       "      <th>242</th>\n",
       "      <td>24</td>\n",
       "      <td>64</td>\n",
       "      <td>15</td>\n",
       "      <td>0.2</td>\n",
       "      <td>67.3</td>\n",
       "      <td>3.8</td>\n",
       "      <td>16.5</td>\n",
       "      <td>1.2</td>\n",
       "      <td>4.8</td>\n",
       "      <td>0.5</td>\n",
       "      <td>0</td>\n",
       "      <td>1</td>\n",
       "    </tr>\n",
       "  </tbody>\n",
       "</table>\n",
       "</div>"
      ],
      "text/plain": [
       "     Temperature  RH  Ws  Rain  FFMC   DMC    DC  ISI   BUI  FWI  Classes  \\\n",
       "238           30  65  14   0.0  85.4  16.0  44.5  4.5  16.9  6.5        1   \n",
       "239           28  87  15   4.4  41.1   6.5   8.0  0.1   6.2  0.0        0   \n",
       "240           27  87  29   0.5  45.9   3.5   7.9  0.4   3.4  0.2        0   \n",
       "241           24  54  18   0.1  79.7   4.3  15.2  1.7   5.1  0.7        0   \n",
       "242           24  64  15   0.2  67.3   3.8  16.5  1.2   4.8  0.5        0   \n",
       "\n",
       "     Region  \n",
       "238       1  \n",
       "239       1  \n",
       "240       1  \n",
       "241       1  \n",
       "242       1  "
      ]
     },
     "execution_count": 5,
     "metadata": {},
     "output_type": "execute_result"
    }
   ],
   "source": [
    "df.tail()"
   ]
  },
  {
   "cell_type": "code",
   "execution_count": 6,
   "metadata": {},
   "outputs": [],
   "source": [
    "## Independent And dependent features\n",
    "y=df['FWI']\n",
    "X=df.drop('FWI',axis=1)\n"
   ]
  },
  {
   "cell_type": "code",
   "execution_count": 7,
   "metadata": {},
   "outputs": [
    {
     "data": {
      "text/html": [
       "<div>\n",
       "<style scoped>\n",
       "    .dataframe tbody tr th:only-of-type {\n",
       "        vertical-align: middle;\n",
       "    }\n",
       "\n",
       "    .dataframe tbody tr th {\n",
       "        vertical-align: top;\n",
       "    }\n",
       "\n",
       "    .dataframe thead th {\n",
       "        text-align: right;\n",
       "    }\n",
       "</style>\n",
       "<table border=\"1\" class=\"dataframe\">\n",
       "  <thead>\n",
       "    <tr style=\"text-align: right;\">\n",
       "      <th></th>\n",
       "      <th>Temperature</th>\n",
       "      <th>RH</th>\n",
       "      <th>Ws</th>\n",
       "      <th>Rain</th>\n",
       "      <th>FFMC</th>\n",
       "      <th>DMC</th>\n",
       "      <th>DC</th>\n",
       "      <th>ISI</th>\n",
       "      <th>BUI</th>\n",
       "      <th>Classes</th>\n",
       "      <th>Region</th>\n",
       "    </tr>\n",
       "  </thead>\n",
       "  <tbody>\n",
       "    <tr>\n",
       "      <th>0</th>\n",
       "      <td>29</td>\n",
       "      <td>57</td>\n",
       "      <td>18</td>\n",
       "      <td>0.0</td>\n",
       "      <td>65.7</td>\n",
       "      <td>3.4</td>\n",
       "      <td>7.6</td>\n",
       "      <td>1.3</td>\n",
       "      <td>3.4</td>\n",
       "      <td>0</td>\n",
       "      <td>0</td>\n",
       "    </tr>\n",
       "    <tr>\n",
       "      <th>1</th>\n",
       "      <td>29</td>\n",
       "      <td>61</td>\n",
       "      <td>13</td>\n",
       "      <td>1.3</td>\n",
       "      <td>64.4</td>\n",
       "      <td>4.1</td>\n",
       "      <td>7.6</td>\n",
       "      <td>1.0</td>\n",
       "      <td>3.9</td>\n",
       "      <td>0</td>\n",
       "      <td>0</td>\n",
       "    </tr>\n",
       "    <tr>\n",
       "      <th>2</th>\n",
       "      <td>26</td>\n",
       "      <td>82</td>\n",
       "      <td>22</td>\n",
       "      <td>13.1</td>\n",
       "      <td>47.1</td>\n",
       "      <td>2.5</td>\n",
       "      <td>7.1</td>\n",
       "      <td>0.3</td>\n",
       "      <td>2.7</td>\n",
       "      <td>0</td>\n",
       "      <td>0</td>\n",
       "    </tr>\n",
       "    <tr>\n",
       "      <th>3</th>\n",
       "      <td>25</td>\n",
       "      <td>89</td>\n",
       "      <td>13</td>\n",
       "      <td>2.5</td>\n",
       "      <td>28.6</td>\n",
       "      <td>1.3</td>\n",
       "      <td>6.9</td>\n",
       "      <td>0.0</td>\n",
       "      <td>1.7</td>\n",
       "      <td>0</td>\n",
       "      <td>0</td>\n",
       "    </tr>\n",
       "    <tr>\n",
       "      <th>4</th>\n",
       "      <td>27</td>\n",
       "      <td>77</td>\n",
       "      <td>16</td>\n",
       "      <td>0.0</td>\n",
       "      <td>64.8</td>\n",
       "      <td>3.0</td>\n",
       "      <td>14.2</td>\n",
       "      <td>1.2</td>\n",
       "      <td>3.9</td>\n",
       "      <td>0</td>\n",
       "      <td>0</td>\n",
       "    </tr>\n",
       "  </tbody>\n",
       "</table>\n",
       "</div>"
      ],
      "text/plain": [
       "   Temperature  RH  Ws  Rain  FFMC  DMC    DC  ISI  BUI  Classes  Region\n",
       "0           29  57  18   0.0  65.7  3.4   7.6  1.3  3.4        0       0\n",
       "1           29  61  13   1.3  64.4  4.1   7.6  1.0  3.9        0       0\n",
       "2           26  82  22  13.1  47.1  2.5   7.1  0.3  2.7        0       0\n",
       "3           25  89  13   2.5  28.6  1.3   6.9  0.0  1.7        0       0\n",
       "4           27  77  16   0.0  64.8  3.0  14.2  1.2  3.9        0       0"
      ]
     },
     "execution_count": 7,
     "metadata": {},
     "output_type": "execute_result"
    }
   ],
   "source": [
    "X.head()"
   ]
  },
  {
   "cell_type": "code",
   "execution_count": 8,
   "metadata": {},
   "outputs": [
    {
     "data": {
      "text/plain": [
       "0      0.5\n",
       "1      0.4\n",
       "2      0.1\n",
       "3      0.0\n",
       "4      0.5\n",
       "      ... \n",
       "238    6.5\n",
       "239    0.0\n",
       "240    0.2\n",
       "241    0.7\n",
       "242    0.5\n",
       "Name: FWI, Length: 243, dtype: float64"
      ]
     },
     "execution_count": 8,
     "metadata": {},
     "output_type": "execute_result"
    }
   ],
   "source": [
    "y"
   ]
  },
  {
   "cell_type": "code",
   "execution_count": 9,
   "metadata": {},
   "outputs": [],
   "source": [
    "from sklearn.model_selection import  train_test_split\n",
    "\n",
    "X_train,X_test,y_train,y_test=train_test_split(X,y,test_size=0.25,random_state=42)"
   ]
  },
  {
   "cell_type": "code",
   "execution_count": 10,
   "metadata": {},
   "outputs": [
    {
     "data": {
      "text/plain": [
       "((182, 11), (182,))"
      ]
     },
     "execution_count": 10,
     "metadata": {},
     "output_type": "execute_result"
    }
   ],
   "source": [
    "X_train.shape,y_train.shape"
   ]
  },
  {
   "cell_type": "code",
   "execution_count": 11,
   "metadata": {},
   "outputs": [
    {
     "data": {
      "text/html": [
       "<div>\n",
       "<style scoped>\n",
       "    .dataframe tbody tr th:only-of-type {\n",
       "        vertical-align: middle;\n",
       "    }\n",
       "\n",
       "    .dataframe tbody tr th {\n",
       "        vertical-align: top;\n",
       "    }\n",
       "\n",
       "    .dataframe thead th {\n",
       "        text-align: right;\n",
       "    }\n",
       "</style>\n",
       "<table border=\"1\" class=\"dataframe\">\n",
       "  <thead>\n",
       "    <tr style=\"text-align: right;\">\n",
       "      <th></th>\n",
       "      <th>Temperature</th>\n",
       "      <th>RH</th>\n",
       "      <th>Ws</th>\n",
       "      <th>Rain</th>\n",
       "      <th>FFMC</th>\n",
       "      <th>DMC</th>\n",
       "      <th>DC</th>\n",
       "      <th>ISI</th>\n",
       "      <th>BUI</th>\n",
       "      <th>Classes</th>\n",
       "      <th>Region</th>\n",
       "    </tr>\n",
       "  </thead>\n",
       "  <tbody>\n",
       "    <tr>\n",
       "      <th>Temperature</th>\n",
       "      <td>1.000000</td>\n",
       "      <td>-0.656095</td>\n",
       "      <td>-0.305977</td>\n",
       "      <td>-0.317512</td>\n",
       "      <td>0.694768</td>\n",
       "      <td>0.498173</td>\n",
       "      <td>0.390684</td>\n",
       "      <td>0.629848</td>\n",
       "      <td>0.473609</td>\n",
       "      <td>0.542141</td>\n",
       "      <td>0.254549</td>\n",
       "    </tr>\n",
       "    <tr>\n",
       "      <th>RH</th>\n",
       "      <td>-0.656095</td>\n",
       "      <td>1.000000</td>\n",
       "      <td>0.225736</td>\n",
       "      <td>0.241656</td>\n",
       "      <td>-0.653023</td>\n",
       "      <td>-0.414601</td>\n",
       "      <td>-0.236078</td>\n",
       "      <td>-0.717804</td>\n",
       "      <td>-0.362317</td>\n",
       "      <td>-0.456876</td>\n",
       "      <td>-0.394665</td>\n",
       "    </tr>\n",
       "    <tr>\n",
       "      <th>Ws</th>\n",
       "      <td>-0.305977</td>\n",
       "      <td>0.225736</td>\n",
       "      <td>1.000000</td>\n",
       "      <td>0.251932</td>\n",
       "      <td>-0.190076</td>\n",
       "      <td>0.000379</td>\n",
       "      <td>0.096576</td>\n",
       "      <td>-0.023558</td>\n",
       "      <td>0.035633</td>\n",
       "      <td>-0.082570</td>\n",
       "      <td>-0.199969</td>\n",
       "    </tr>\n",
       "    <tr>\n",
       "      <th>Rain</th>\n",
       "      <td>-0.317512</td>\n",
       "      <td>0.241656</td>\n",
       "      <td>0.251932</td>\n",
       "      <td>1.000000</td>\n",
       "      <td>-0.545491</td>\n",
       "      <td>-0.289754</td>\n",
       "      <td>-0.302341</td>\n",
       "      <td>-0.345707</td>\n",
       "      <td>-0.300964</td>\n",
       "      <td>-0.369357</td>\n",
       "      <td>-0.059022</td>\n",
       "    </tr>\n",
       "    <tr>\n",
       "      <th>FFMC</th>\n",
       "      <td>0.694768</td>\n",
       "      <td>-0.653023</td>\n",
       "      <td>-0.190076</td>\n",
       "      <td>-0.545491</td>\n",
       "      <td>1.000000</td>\n",
       "      <td>0.620807</td>\n",
       "      <td>0.524101</td>\n",
       "      <td>0.750799</td>\n",
       "      <td>0.607210</td>\n",
       "      <td>0.781259</td>\n",
       "      <td>0.249514</td>\n",
       "    </tr>\n",
       "    <tr>\n",
       "      <th>DMC</th>\n",
       "      <td>0.498173</td>\n",
       "      <td>-0.414601</td>\n",
       "      <td>0.000379</td>\n",
       "      <td>-0.289754</td>\n",
       "      <td>0.620807</td>\n",
       "      <td>1.000000</td>\n",
       "      <td>0.868647</td>\n",
       "      <td>0.685656</td>\n",
       "      <td>0.983175</td>\n",
       "      <td>0.617273</td>\n",
       "      <td>0.212582</td>\n",
       "    </tr>\n",
       "    <tr>\n",
       "      <th>DC</th>\n",
       "      <td>0.390684</td>\n",
       "      <td>-0.236078</td>\n",
       "      <td>0.096576</td>\n",
       "      <td>-0.302341</td>\n",
       "      <td>0.524101</td>\n",
       "      <td>0.868647</td>\n",
       "      <td>1.000000</td>\n",
       "      <td>0.513701</td>\n",
       "      <td>0.942414</td>\n",
       "      <td>0.543581</td>\n",
       "      <td>-0.060838</td>\n",
       "    </tr>\n",
       "    <tr>\n",
       "      <th>ISI</th>\n",
       "      <td>0.629848</td>\n",
       "      <td>-0.717804</td>\n",
       "      <td>-0.023558</td>\n",
       "      <td>-0.345707</td>\n",
       "      <td>0.750799</td>\n",
       "      <td>0.685656</td>\n",
       "      <td>0.513701</td>\n",
       "      <td>1.000000</td>\n",
       "      <td>0.643818</td>\n",
       "      <td>0.742977</td>\n",
       "      <td>0.296441</td>\n",
       "    </tr>\n",
       "    <tr>\n",
       "      <th>BUI</th>\n",
       "      <td>0.473609</td>\n",
       "      <td>-0.362317</td>\n",
       "      <td>0.035633</td>\n",
       "      <td>-0.300964</td>\n",
       "      <td>0.607210</td>\n",
       "      <td>0.983175</td>\n",
       "      <td>0.942414</td>\n",
       "      <td>0.643818</td>\n",
       "      <td>1.000000</td>\n",
       "      <td>0.612239</td>\n",
       "      <td>0.114897</td>\n",
       "    </tr>\n",
       "    <tr>\n",
       "      <th>Classes</th>\n",
       "      <td>0.542141</td>\n",
       "      <td>-0.456876</td>\n",
       "      <td>-0.082570</td>\n",
       "      <td>-0.369357</td>\n",
       "      <td>0.781259</td>\n",
       "      <td>0.617273</td>\n",
       "      <td>0.543581</td>\n",
       "      <td>0.742977</td>\n",
       "      <td>0.612239</td>\n",
       "      <td>1.000000</td>\n",
       "      <td>0.188837</td>\n",
       "    </tr>\n",
       "    <tr>\n",
       "      <th>Region</th>\n",
       "      <td>0.254549</td>\n",
       "      <td>-0.394665</td>\n",
       "      <td>-0.199969</td>\n",
       "      <td>-0.059022</td>\n",
       "      <td>0.249514</td>\n",
       "      <td>0.212582</td>\n",
       "      <td>-0.060838</td>\n",
       "      <td>0.296441</td>\n",
       "      <td>0.114897</td>\n",
       "      <td>0.188837</td>\n",
       "      <td>1.000000</td>\n",
       "    </tr>\n",
       "  </tbody>\n",
       "</table>\n",
       "</div>"
      ],
      "text/plain": [
       "             Temperature        RH        Ws      Rain      FFMC       DMC  \\\n",
       "Temperature     1.000000 -0.656095 -0.305977 -0.317512  0.694768  0.498173   \n",
       "RH             -0.656095  1.000000  0.225736  0.241656 -0.653023 -0.414601   \n",
       "Ws             -0.305977  0.225736  1.000000  0.251932 -0.190076  0.000379   \n",
       "Rain           -0.317512  0.241656  0.251932  1.000000 -0.545491 -0.289754   \n",
       "FFMC            0.694768 -0.653023 -0.190076 -0.545491  1.000000  0.620807   \n",
       "DMC             0.498173 -0.414601  0.000379 -0.289754  0.620807  1.000000   \n",
       "DC              0.390684 -0.236078  0.096576 -0.302341  0.524101  0.868647   \n",
       "ISI             0.629848 -0.717804 -0.023558 -0.345707  0.750799  0.685656   \n",
       "BUI             0.473609 -0.362317  0.035633 -0.300964  0.607210  0.983175   \n",
       "Classes         0.542141 -0.456876 -0.082570 -0.369357  0.781259  0.617273   \n",
       "Region          0.254549 -0.394665 -0.199969 -0.059022  0.249514  0.212582   \n",
       "\n",
       "                   DC       ISI       BUI   Classes    Region  \n",
       "Temperature  0.390684  0.629848  0.473609  0.542141  0.254549  \n",
       "RH          -0.236078 -0.717804 -0.362317 -0.456876 -0.394665  \n",
       "Ws           0.096576 -0.023558  0.035633 -0.082570 -0.199969  \n",
       "Rain        -0.302341 -0.345707 -0.300964 -0.369357 -0.059022  \n",
       "FFMC         0.524101  0.750799  0.607210  0.781259  0.249514  \n",
       "DMC          0.868647  0.685656  0.983175  0.617273  0.212582  \n",
       "DC           1.000000  0.513701  0.942414  0.543581 -0.060838  \n",
       "ISI          0.513701  1.000000  0.643818  0.742977  0.296441  \n",
       "BUI          0.942414  0.643818  1.000000  0.612239  0.114897  \n",
       "Classes      0.543581  0.742977  0.612239  1.000000  0.188837  \n",
       "Region      -0.060838  0.296441  0.114897  0.188837  1.000000  "
      ]
     },
     "execution_count": 11,
     "metadata": {},
     "output_type": "execute_result"
    }
   ],
   "source": [
    "X_train.corr()"
   ]
  },
  {
   "cell_type": "code",
   "execution_count": 12,
   "metadata": {},
   "outputs": [
    {
     "data": {
      "image/png": "[encoded data removed]",
      "text/plain": [
       "<Figure size 1000x500 with 2 Axes>"
      ]
     },
     "metadata": {},
     "output_type": "display_data"
    }
   ],
   "source": [
    "plt.figure(figsize=(10,5))\n",
    "sns.heatmap(X_train.corr(),annot=True,cmap='coolwarm')\n",
    "plt.show()"
   ]
  },
  {
   "cell_type": "code",
   "execution_count": 13,
   "metadata": {},
   "outputs": [],
   "source": [
    "def correlation(dataset,threshold):\n",
    "    col_corr=set()\n",
    "    corr_matrix=dataset.corr()\n",
    "    for i in range(len(corr_matrix)):\n",
    "        for j in range(i):\n",
    "            if abs(corr_matrix.iloc[i,j])>threshold:\n",
    "                colname=corr_matrix.columns[i]\n",
    "                col_corr.add(colname)\n",
    "    return col_corr\n",
    "                "
   ]
  },
  {
   "cell_type": "code",
   "execution_count": 14,
   "metadata": {},
   "outputs": [],
   "source": [
    "corr=correlation(X_train,0.85)"
   ]
  },
  {
   "cell_type": "code",
   "execution_count": 15,
   "metadata": {},
   "outputs": [
    {
     "data": {
      "text/plain": [
       "((61, 9), (182, 9))"
      ]
     },
     "execution_count": 15,
     "metadata": {},
     "output_type": "execute_result"
    }
   ],
   "source": [
    "X_train.drop(corr,inplace=True,axis=1)\n",
    "X_test.drop(corr,inplace=True,axis=1)\n",
    "X_test.shape,X_train.shape"
   ]
  },
  {
   "cell_type": "code",
   "execution_count": 16,
   "metadata": {},
   "outputs": [
    {
     "data": {
      "text/plain": [
       "(array([[29. , 74. , 19. , ...,  2.1,  0. ,  0. ],\n",
       "        [31. , 72. , 14. , ...,  0.8,  0. ,  1. ],\n",
       "        [40. , 31. , 15. , ..., 16.6,  1. ,  1. ],\n",
       "        ...,\n",
       "        [25. , 76. , 17. , ...,  0.2,  0. ,  0. ],\n",
       "        [34. , 59. , 16. , ...,  7.4,  1. ,  1. ],\n",
       "        [30. , 77. , 21. , ...,  1.1,  0. ,  0. ]]),\n",
       " array([ 0.9,  0.3, 21.6,  2.6,  0.9,  9.9,  6.4, 10.5,  0. ,  7.7, 12.7,\n",
       "        17.2, 12.9,  0.1,  0.7,  0.7,  2.5, 15.3,  0.1,  9.5,  5.7,  6.1,\n",
       "         9.1, 31.1,  0.8,  0.3,  0.2,  6.8,  3.9,  3.4,  0.3,  1. ,  1. ,\n",
       "         2.8,  0.5,  0.4, 18.8,  4.2,  0.9, 14.8, 12. , 16.1,  1.2, 15. ,\n",
       "        13.7,  3. ,  0.8, 26.3,  0.5,  0.1, 14.6,  3.6,  0.2, 21.6,  6.7,\n",
       "        16.3,  4.2, 20.3, 26.9, 19.4,  0.6,  3.2,  4.9,  0.9,  3.8,  4.1,\n",
       "         0.4,  0.6,  7.1,  3. , 13.9,  0.3,  0.5,  0.2,  0.5,  0.4, 25.4,\n",
       "         0.4,  0.8,  0.3,  6. ,  3.2, 13.5, 11.6, 12.6,  3.9,  0.5, 15. ,\n",
       "         2.2,  0.2,  7.5, 14.5,  3.2, 18.4,  0.5, 16. ,  6. ,  0. , 19.5,\n",
       "         0.8,  5.3, 14.1,  0. ,  0.1,  1.3, 12.9,  2.7, 24.5, 10.3,  4. ,\n",
       "         9.6, 16.8,  4.9,  7.7,  7.1, 30. ,  9.7,  0.3, 22.3,  0.7,  3.7,\n",
       "        30.2,  0.3,  0.4, 10.7, 26.1, 10. ,  0.2,  7.3,  4.2,  0. ,  0.9,\n",
       "        24. ,  1.2,  0.8,  7.3,  0.8,  8.8,  9. ,  2.5, 17.5,  5.9,  0. ,\n",
       "         5.6, 13. , 11.9, 10.9, 19.9,  2.3, 11.3, 18.1,  3.1, 15.2,  0.8,\n",
       "        10.7,  0.8,  8. ,  6.3, 19.3,  0.4,  2.1, 18.4,  1.9,  2.2,  0.5,\n",
       "         0.4,  0.1, 13.2, 12.2, 10.6,  0.8,  5.9,  0.1,  0.5,  2.2,  0.6,\n",
       "        12.1,  0. ,  0.1,  0.1, 10.9,  0.3]),\n",
       " array([[31. , 64. , 15. ,  0. , 86.7, 14.2,  5.7,  1. ,  0. ],\n",
       "        [33. , 54. , 13. ,  0. , 88.2,  9.9,  6.4,  1. ,  0. ],\n",
       "        [28. , 58. , 18. ,  2.2, 63.7,  3.2,  1.2,  0. ,  1. ],\n",
       "        [34. , 58. , 13. ,  0.2, 79.5, 18.7,  2.1,  0. ,  1. ],\n",
       "        [30. , 65. , 14. ,  0. , 85.4, 16. ,  4.5,  1. ,  1. ],\n",
       "        [39. , 64. ,  9. ,  1.2, 73.8, 11.7,  1.1,  0. ,  1. ],\n",
       "        [28. , 75. , 16. ,  0. , 82.2,  4.4,  3.3,  1. ,  1. ],\n",
       "        [37. , 36. , 13. ,  0.6, 86.2, 17.9,  4.8,  1. ,  1. ],\n",
       "        [28. , 79. , 12. ,  0. , 73.2,  9.5,  1.3,  0. ,  0. ],\n",
       "        [31. , 50. , 19. ,  0.6, 77.8, 10.6,  2.4,  0. ,  0. ],\n",
       "        [28. , 76. , 21. ,  0. , 72.6,  7. ,  0.7,  0. ,  0. ],\n",
       "        [35. , 56. , 14. ,  0.4, 79.2, 37. ,  2.1,  0. ,  1. ],\n",
       "        [32. , 51. , 13. ,  0. , 88.7, 16. ,  6.9,  1. ,  1. ],\n",
       "        [36. , 50. , 16. ,  0. , 89.9, 32.7,  9.5,  1. ,  1. ],\n",
       "        [36. , 55. , 18. ,  0. , 89.1, 33.5,  9.9,  1. ,  0. ],\n",
       "        [34. , 51. , 16. ,  3.8, 77.5,  8. ,  2. ,  0. ,  1. ],\n",
       "        [26. , 49. ,  6. ,  2. , 61.3, 11.9,  0.6,  0. ,  1. ],\n",
       "        [29. , 89. , 13. ,  0.7, 36.1,  1.7,  0. ,  0. ,  0. ],\n",
       "        [32. , 75. , 14. ,  0. , 86.4, 13. ,  5.2,  1. ,  0. ],\n",
       "        [35. , 54. , 11. ,  0.1, 83.7,  8.4,  3.1,  1. ,  1. ],\n",
       "        [33. , 78. , 17. ,  0. , 80.1,  4.6,  2.7,  0. ,  0. ],\n",
       "        [30. , 80. , 16. ,  0.4, 59.8,  3.4,  0.9,  0. ,  0. ],\n",
       "        [31. , 52. , 14. ,  0. , 87.7,  6.4,  6.2,  1. ,  0. ],\n",
       "        [29. , 68. , 19. ,  1. , 59.9,  2.5,  1.1,  0. ,  0. ],\n",
       "        [38. , 35. , 15. ,  0. , 93.8, 23. , 15.7,  1. ,  1. ],\n",
       "        [39. , 45. , 13. ,  0.6, 85.2, 11.3,  4.2,  1. ,  1. ],\n",
       "        [31. , 65. , 14. ,  0. , 84.5, 12.5,  4. ,  1. ,  0. ],\n",
       "        [35. , 63. , 15. ,  0. , 87. , 19. ,  5.9,  1. ,  0. ],\n",
       "        [22. , 86. , 15. , 10.1, 30.5,  0.7,  0. ,  0. ,  0. ],\n",
       "        [34. , 58. , 18. ,  0. , 88. , 13.6,  8. ,  1. ,  1. ],\n",
       "        [28. , 84. , 18. ,  0. , 83.8, 13.5,  4.5,  1. ,  0. ],\n",
       "        [30. , 58. , 12. ,  4.1, 66.1,  4. ,  1. ,  0. ,  1. ],\n",
       "        [31. , 64. , 18. ,  0. , 86.8, 17.8,  6.7,  1. ,  0. ],\n",
       "        [35. , 64. , 17. ,  0. , 87.2, 31.9,  6.8,  1. ,  0. ],\n",
       "        [31. , 55. , 16. ,  0.1, 79.9,  4.5,  2.5,  0. ,  0. ],\n",
       "        [32. , 60. , 14. ,  0.2, 77.1,  6. ,  1.8,  0. ,  1. ],\n",
       "        [29. , 75. , 16. ,  0. , 80.8,  3.4,  2.8,  1. ,  0. ],\n",
       "        [35. , 46. , 13. ,  0.3, 83.9, 16.9,  3.5,  1. ,  1. ],\n",
       "        [29. , 87. , 15. ,  0.4, 47.4,  4.2,  0.2,  0. ,  1. ],\n",
       "        [27. , 87. , 29. ,  0.5, 45.9,  3.5,  0.4,  0. ,  1. ],\n",
       "        [36. , 55. , 13. ,  0.3, 82.4, 15.6,  3.7,  1. ,  0. ],\n",
       "        [31. , 54. , 11. ,  0. , 82. ,  6. ,  2.5,  0. ,  0. ],\n",
       "        [31. , 55. , 11. ,  0. , 87.8, 16.5,  5.4,  1. ,  0. ],\n",
       "        [30. , 89. , 16. ,  0.6, 37.3,  1.1,  0. ,  0. ,  0. ],\n",
       "        [37. , 40. , 13. ,  0. , 91.9, 22.3, 10.8,  1. ,  1. ],\n",
       "        [32. , 69. , 16. ,  0. , 86.5, 15.5,  5.5,  1. ,  0. ],\n",
       "        [32. , 81. , 17. ,  0. , 84.6, 21.1,  4.7,  1. ,  1. ],\n",
       "        [32. , 68. , 14. ,  1.4, 66.6,  7.7,  1.1,  0. ,  0. ],\n",
       "        [36. , 56. , 16. ,  0. , 88.9, 23.8,  8.2,  1. ,  1. ],\n",
       "        [29. , 65. , 19. ,  0.6, 68.3,  5.5,  1.5,  0. ,  0. ],\n",
       "        [33. , 37. , 16. ,  0. , 92.2, 61.3, 13.1,  1. ,  1. ],\n",
       "        [38. , 43. , 13. ,  0.5, 85. , 13. ,  4.1,  1. ,  1. ],\n",
       "        [31. , 42. , 21. ,  0. , 90.6, 18.2, 13.4,  1. ,  1. ],\n",
       "        [34. , 64. , 14. ,  0. , 88.9, 40.5,  9. ,  1. ,  0. ],\n",
       "        [36. , 53. , 19. ,  0. , 89.2, 17.1, 10. ,  1. ,  0. ],\n",
       "        [31. , 78. , 18. ,  0. , 85.8, 45.6,  4.7,  1. ,  0. ],\n",
       "        [34. , 56. , 15. ,  2.9, 74.8,  7.1,  1.6,  0. ,  1. ],\n",
       "        [33. , 57. , 16. ,  0. , 87.5, 15.7,  6.7,  1. ,  1. ],\n",
       "        [31. , 72. , 14. ,  0. , 84.2,  8.3,  3.8,  1. ,  1. ],\n",
       "        [36. , 33. , 13. ,  0.1, 90.6, 25.8,  9. ,  1. ,  1. ],\n",
       "        [34. , 56. , 17. ,  0.1, 84.7,  9.7,  4.7,  1. ,  1. ]]),\n",
       " array([ 8.4,  7.2,  0.5,  3.8,  6.5,  0.7,  2.5,  7.2,  0.9,  2.8,  0.4,\n",
       "         6.1,  9.8, 17.3, 20.4,  1.3,  0.4,  0. ,  6.8,  3.1,  1.7,  0.4,\n",
       "         5.9,  0.4, 20.9,  4.7,  5.6, 10.2,  0. ,  9.9,  6.3,  0.4, 10.6,\n",
       "        15.7,  1.4,  0.9,  1.7,  5.5,  0.1,  0.2,  6.3,  1.7,  8.3,  0. ,\n",
       "        15.7,  8. ,  7.7,  0.6, 13.2,  0.7, 30.3,  5.2, 16.7, 20.9, 15.3,\n",
       "        13.7,  0.8,  9. ,  3.9, 15.4,  5.2]))"
      ]
     },
     "execution_count": 16,
     "metadata": {},
     "output_type": "execute_result"
    }
   ],
   "source": [
    "np.array(X_train),np.array(y_train),np.array(X_test),np.array(y_test)"
   ]
  },
  {
   "cell_type": "markdown",
   "metadata": {},
   "source": [
    "Feature Scaling"
   ]
  },
  {
   "cell_type": "code",
   "execution_count": 17,
   "metadata": {},
   "outputs": [],
   "source": [
    "from sklearn.preprocessing import StandardScaler\n",
    "\n",
    "scaler=StandardScaler()\n",
    "X_train_sc=scaler.fit_transform(X_train)\n",
    "X_test_sc=scaler.transform(X_test)"
   ]
  },
  {
   "cell_type": "code",
   "execution_count": 18,
   "metadata": {},
   "outputs": [
    {
     "data": {
      "text/plain": [
       "array([[-0.84284248,  0.78307967,  1.29972026, ..., -0.62963326,\n",
       "        -1.10431526, -0.98907071],\n",
       "       [-0.30175842,  0.64950844, -0.59874754, ..., -0.93058524,\n",
       "        -1.10431526,  1.01105006],\n",
       "       [ 2.13311985, -2.08870172, -0.21905398, ...,  2.7271388 ,\n",
       "         0.90553851,  1.01105006],\n",
       "       ...,\n",
       "       [-1.9250106 ,  0.9166509 ,  0.54033314, ..., -1.06948615,\n",
       "        -1.10431526, -0.98907071],\n",
       "       [ 0.50986767, -0.21870454,  0.16063958, ...,  0.5973248 ,\n",
       "         0.90553851,  1.01105006],\n",
       "       [-0.57230045,  0.98343651,  2.05910739, ..., -0.86113478,\n",
       "        -1.10431526, -0.98907071]])"
      ]
     },
     "execution_count": 18,
     "metadata": {},
     "output_type": "execute_result"
    }
   ],
   "source": [
    "X_train_sc"
   ]
  },
  {
   "cell_type": "code",
   "execution_count": 19,
   "metadata": {},
   "outputs": [
    {
     "data": {
      "text/plain": [
       "<Axes: title={'center': 'X_train After Scaling'}>"
      ]
     },
     "execution_count": 19,
     "metadata": {},
     "output_type": "execute_result"
    },
    {
     "data": {
      "image/png": "[encoded data removed]",
      "text/plain": [
       "<Figure size 1500x500 with 3 Axes>"
      ]
     },
     "metadata": {},
     "output_type": "display_data"
    }
   ],
   "source": [
    "plt.subplots(figsize=(15,5))\n",
    "\n",
    "plt.subplot(1,2,1)\n",
    "plt.title(\"X_train Before Scaling\")\n",
    "sns.boxplot(data=X_train)\n",
    "plt.subplot(1,2,2)\n",
    "plt.title(\"X_train After Scaling\")\n",
    "sns.boxplot(data=X_train_sc)"
   ]
  },
  {
   "cell_type": "markdown",
   "metadata": {},
   "source": [
    "Linear Regression Model"
   ]
  },
  {
   "cell_type": "code",
   "execution_count": 20,
   "metadata": {},
   "outputs": [
    {
     "name": "stdout",
     "output_type": "stream",
     "text": [
      "0.6742766873791582\n",
      "0.9847657384266951\n"
     ]
    }
   ],
   "source": [
    "from sklearn.linear_model import  LinearRegression\n",
    "from sklearn.metrics import  mean_squared_error\n",
    "from sklearn.metrics import  r2_score\n",
    "\n",
    "\n",
    "linearReg=LinearRegression()\n",
    "linearReg.fit(X_train_sc,y_train)\n",
    "y_pred=linearReg.predict(X_test_sc)\n",
    "mae=mean_squared_error(y_test,y_pred)\n",
    "print(mae)\n",
    "R2=r2_score(y_test,y_pred)\n",
    "print(R2)"
   ]
  },
  {
   "cell_type": "code",
   "execution_count": 21,
   "metadata": {},
   "outputs": [
    {
     "name": "stdout",
     "output_type": "stream",
     "text": [
      "2.248345891897477\n",
      "0.9492020263112388\n"
     ]
    }
   ],
   "source": [
    "from sklearn.linear_model import  Lasso\n",
    "from sklearn.metrics import  mean_squared_error\n",
    "from sklearn.metrics import  r2_score\n",
    "\n",
    "\n",
    "LassoReg=Lasso()\n",
    "LassoReg.fit(X_train_sc,y_train)\n",
    "y_pred=LassoReg.predict(X_test_sc)\n",
    "mae=mean_squared_error(y_test,y_pred)\n",
    "print(mae)\n",
    "R2=r2_score(y_test,y_pred)\n",
    "print(R2)"
   ]
  },
  {
   "cell_type": "code",
   "execution_count": 22,
   "metadata": {},
   "outputs": [
    {
     "name": "stdout",
     "output_type": "stream",
     "text": [
      "0.6949198918152073\n",
      "0.9842993364555513\n"
     ]
    }
   ],
   "source": [
    "from sklearn.linear_model import  Ridge\n",
    "from sklearn.metrics import  mean_squared_error\n",
    "from sklearn.metrics import  r2_score\n",
    "\n",
    "\n",
    "RidgeReg=Ridge()\n",
    "RidgeReg.fit(X_train_sc,y_train)\n",
    "y_pred=RidgeReg.predict(X_test_sc)\n",
    "mae=mean_squared_error(y_test,y_pred)\n",
    "print(mae)\n",
    "R2=r2_score(y_test,y_pred)\n",
    "print(R2)"
   ]
  },
  {
   "cell_type": "code",
   "execution_count": 23,
   "metadata": {},
   "outputs": [
    {
     "name": "stdout",
     "output_type": "stream",
     "text": [
      "5.517251101025224\n",
      "0.8753460589519703\n"
     ]
    }
   ],
   "source": [
    "from sklearn.linear_model import  ElasticNet\n",
    "from sklearn.metrics import mean_squared_error\n",
    "from sklearn.metrics import  r2_score\n",
    "\n",
    "ElasticNetReg=ElasticNet()\n",
    "ElasticNetReg.fit(X_train_sc,y_train)\n",
    "y_pred=ElasticNetReg.predict(X_test_sc)\n",
    "mae=mean_squared_error(y_test,y_pred)\n",
    "print(mae)\n",
    "R2=r2_score(y_test,y_pred)\n",
    "print(R2)"
   ]
  },
  {
   "cell_type": "code",
   "execution_count": 24,
   "metadata": {},
   "outputs": [],
   "source": [
    "import pickle \n",
    "\n",
    "pickle.dump(RidgeReg,open('..\\models\\Algerian_ff_Ridge_model.pkl','wb'))\n",
    "pickle.dump(scaler,open('..\\models\\Algerian_ff_scaler.pkl','wb'))\n",
    "\n"
   ]
  },
  {
   "cell_type": "code",
   "execution_count": null,
   "metadata": {},
   "outputs": [],
   "source": [
    "model=pickle.load(open(r'..\\models\\Algerian_ff_Ridge_model.pkl','rb'))\n",
    "scaler=pickle.load(open(r'..\\models\\Algerian_ff_scaler.pkl','rb'))"
   ]
  },
  {
   "cell_type": "code",
   "execution_count": null,
   "metadata": {},
   "outputs": [],
   "source": [
    "data=scaler.transform([[22,32,43,42,53,3,43,1,0]])"
   ]
  },
  {
   "cell_type": "code",
   "execution_count": 28,
   "metadata": {},
   "outputs": [
    {
     "data": {
      "text/plain": [
       "array([47.76514877])"
      ]
     },
     "execution_count": 28,
     "metadata": {},
     "output_type": "execute_result"
    }
   ],
   "source": [
    "model.predict(data)"
   ]
  },
  {
   "cell_type": "code",
   "execution_count": null,
   "metadata": {},
   "outputs": [],
   "source": [
    "\n",
    "\n",
    "\n"
   ]
  },
  {
   "cell_type": "code",
   "execution_count": null,
   "metadata": {},
   "outputs": [],
   "source": []
  }
 ],
 "metadata": {
  "kernelspec": {
   "display_name": "Python 3",
   "language": "python",
   "name": "python3"
  },
  "language_info": {
   "codemirror_mode": {
    "name": "ipython",
    "version": 3
   },
   "file_extension": ".py",
   "mimetype": "text/x-python",
   "name": "python",
   "nbconvert_exporter": "python",
   "pygments_lexer": "ipython3",
   "version": "3.11.4"
  }
 },
 "nbformat": 4,
 "nbformat_minor": 2
}
